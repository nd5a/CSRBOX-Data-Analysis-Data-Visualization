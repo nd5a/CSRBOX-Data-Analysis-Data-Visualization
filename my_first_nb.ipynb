{
 "cells": [
  {
   "cell_type": "markdown",
   "id": "310799bb-ff83-4599-a89d-e8bae808d57b",
   "metadata": {},
   "source": [
    "# Title\n",
    "My First Notebook"
   ]
  },
  {
   "cell_type": "code",
   "execution_count": 3,
   "id": "79121a8a-865b-4ad0-843a-0c15a71bf3dd",
   "metadata": {},
   "outputs": [],
   "source": [
    "x = 5"
   ]
  },
  {
   "cell_type": "code",
   "execution_count": 4,
   "id": "3f0fe10e-f732-41f3-9626-ea5de2603177",
   "metadata": {},
   "outputs": [
    {
     "data": {
      "text/plain": [
       "5"
      ]
     },
     "execution_count": 4,
     "metadata": {},
     "output_type": "execute_result"
    }
   ],
   "source": [
    "x"
   ]
  },
  {
   "cell_type": "code",
   "execution_count": 9,
   "id": "e24c1991-7528-4ed8-8b5d-aeb8fefed323",
   "metadata": {},
   "outputs": [],
   "source": [
    "y = 100"
   ]
  },
  {
   "cell_type": "code",
   "execution_count": 10,
   "id": "d7a734e5-4b9c-478f-902c-947371c1da27",
   "metadata": {},
   "outputs": [
    {
     "data": {
      "text/plain": [
       "100"
      ]
     },
     "execution_count": 10,
     "metadata": {},
     "output_type": "execute_result"
    }
   ],
   "source": [
    "y"
   ]
  },
  {
   "cell_type": "code",
   "execution_count": 11,
   "id": "967a0a41-4c0b-4831-839d-71ad6db4a9ef",
   "metadata": {},
   "outputs": [],
   "source": [
    "age = 28"
   ]
  },
  {
   "cell_type": "code",
   "execution_count": 12,
   "id": "2b5ab9ba-4ac9-4433-b409-61544bfdcb89",
   "metadata": {},
   "outputs": [
    {
     "data": {
      "text/plain": [
       "28"
      ]
     },
     "execution_count": 12,
     "metadata": {},
     "output_type": "execute_result"
    }
   ],
   "source": [
    "age"
   ]
  },
  {
   "cell_type": "code",
   "execution_count": 16,
   "id": "eaa3c958-46cb-41a2-9878-b2c4dffafbdd",
   "metadata": {},
   "outputs": [
    {
     "ename": "NameError",
     "evalue": "name 'X' is not defined",
     "output_type": "error",
     "traceback": [
      "\u001b[1;31m---------------------------------------------------------------------------\u001b[0m",
      "\u001b[1;31mNameError\u001b[0m                                 Traceback (most recent call last)",
      "Cell \u001b[1;32mIn[16], line 1\u001b[0m\n\u001b[1;32m----> 1\u001b[0m X\n",
      "\u001b[1;31mNameError\u001b[0m: name 'X' is not defined"
     ]
    }
   ],
   "source": [
    "X"
   ]
  },
  {
   "cell_type": "code",
   "execution_count": 19,
   "id": "d08b0739-2919-4971-8926-a75ec088150e",
   "metadata": {},
   "outputs": [],
   "source": [
    "h = 5"
   ]
  },
  {
   "cell_type": "code",
   "execution_count": 21,
   "id": "913f7120-0077-4f7f-8dc9-af064f0cf9ca",
   "metadata": {},
   "outputs": [
    {
     "data": {
      "text/plain": [
       "7"
      ]
     },
     "execution_count": 21,
     "metadata": {},
     "output_type": "execute_result"
    }
   ],
   "source": [
    "h+2"
   ]
  },
  {
   "cell_type": "code",
   "execution_count": 23,
   "id": "cae5eb1a-8f7f-4eaf-a675-626a09e7c068",
   "metadata": {},
   "outputs": [],
   "source": [
    "x = 10"
   ]
  },
  {
   "cell_type": "code",
   "execution_count": 24,
   "id": "fa23bf8f-ee69-486a-97ef-a2430bccabfc",
   "metadata": {},
   "outputs": [],
   "source": [
    "X = 20"
   ]
  },
  {
   "cell_type": "code",
   "execution_count": 25,
   "id": "afaeaaaf-cf92-43ef-b1b6-834bf33882ee",
   "metadata": {},
   "outputs": [
    {
     "data": {
      "text/plain": [
       "20"
      ]
     },
     "execution_count": 25,
     "metadata": {},
     "output_type": "execute_result"
    }
   ],
   "source": [
    "X"
   ]
  },
  {
   "cell_type": "code",
   "execution_count": 26,
   "id": "c56de94c-3bc3-4cae-adc5-e817a3c6059d",
   "metadata": {},
   "outputs": [
    {
     "data": {
      "text/plain": [
       "10"
      ]
     },
     "execution_count": 26,
     "metadata": {},
     "output_type": "execute_result"
    }
   ],
   "source": [
    "x"
   ]
  },
  {
   "cell_type": "code",
   "execution_count": 30,
   "id": "69c24d9e-4856-4c2f-aa3b-0b74df04eddd",
   "metadata": {},
   "outputs": [],
   "source": [
    "name = 'John'"
   ]
  },
  {
   "cell_type": "code",
   "execution_count": 31,
   "id": "cae8449f-06e2-468d-8271-525c85b98f89",
   "metadata": {},
   "outputs": [
    {
     "data": {
      "text/plain": [
       "'John'"
      ]
     },
     "execution_count": 31,
     "metadata": {},
     "output_type": "execute_result"
    }
   ],
   "source": [
    "name"
   ]
  },
  {
   "cell_type": "markdown",
   "id": "0e1c86e6-42de-4435-929d-5a1679ce445e",
   "metadata": {},
   "source": [
    "# Library"
   ]
  },
  {
   "cell_type": "code",
   "execution_count": 35,
   "id": "52279f6d-031a-4b25-917f-49afed8a81af",
   "metadata": {},
   "outputs": [],
   "source": [
    "import math"
   ]
  },
  {
   "cell_type": "code",
   "execution_count": 37,
   "id": "089afef9-934d-4c47-b1ce-686ca264c4a2",
   "metadata": {},
   "outputs": [
    {
     "data": {
      "text/plain": [
       "7.0710678118654755"
      ]
     },
     "execution_count": 37,
     "metadata": {},
     "output_type": "execute_result"
    }
   ],
   "source": [
    "math.sqrt(50)"
   ]
  },
  {
   "cell_type": "markdown",
   "id": "7be0e7cd-4955-474c-b52e-063a8ce89454",
   "metadata": {},
   "source": [
    "# Data Analysis"
   ]
  },
  {
   "cell_type": "code",
   "execution_count": 38,
   "id": "6ee21b5c-3f54-4076-80fa-057b23060eb9",
   "metadata": {},
   "outputs": [
    {
     "name": "stdout",
     "output_type": "stream",
     "text": [
      "Requirement already satisfied: pandas in d:\\anaconda\\lib\\site-packages (2.2.2)\n",
      "Requirement already satisfied: numpy>=1.26.0 in d:\\anaconda\\lib\\site-packages (from pandas) (1.26.4)\n",
      "Requirement already satisfied: python-dateutil>=2.8.2 in d:\\anaconda\\lib\\site-packages (from pandas) (2.9.0.post0)\n",
      "Requirement already satisfied: pytz>=2020.1 in d:\\anaconda\\lib\\site-packages (from pandas) (2024.1)\n",
      "Requirement already satisfied: tzdata>=2022.7 in d:\\anaconda\\lib\\site-packages (from pandas) (2023.3)\n",
      "Requirement already satisfied: six>=1.5 in d:\\anaconda\\lib\\site-packages (from python-dateutil>=2.8.2->pandas) (1.16.0)\n"
     ]
    }
   ],
   "source": [
    "!pip install pandas"
   ]
  },
  {
   "cell_type": "code",
   "execution_count": 45,
   "id": "9f225c95-d1d4-4849-baa0-5904152e7ada",
   "metadata": {},
   "outputs": [],
   "source": [
    "import pandas as pd"
   ]
  },
  {
   "cell_type": "code",
   "execution_count": 49,
   "id": "4d366188-fa4b-4735-a073-a187441a0fbf",
   "metadata": {},
   "outputs": [],
   "source": [
    "bd = pd.read_csv('cars.csv',encoding='ISO-8859-1')"
   ]
  },
  {
   "cell_type": "code",
   "execution_count": 50,
   "id": "087dba4a-6af6-4bbe-9b1f-5b17774f9ff3",
   "metadata": {},
   "outputs": [
    {
     "data": {
      "text/plain": [
       "(33, 12)"
      ]
     },
     "execution_count": 50,
     "metadata": {},
     "output_type": "execute_result"
    }
   ],
   "source": [
    "bd.shape"
   ]
  },
  {
   "cell_type": "code",
   "execution_count": 52,
   "id": "5df54898-ead5-4450-9318-bd5cbe58ef1d",
   "metadata": {},
   "outputs": [
    {
     "data": {
      "text/html": [
       "<div>\n",
       "<style scoped>\n",
       "    .dataframe tbody tr th:only-of-type {\n",
       "        vertical-align: middle;\n",
       "    }\n",
       "\n",
       "    .dataframe tbody tr th {\n",
       "        vertical-align: top;\n",
       "    }\n",
       "\n",
       "    .dataframe thead th {\n",
       "        text-align: right;\n",
       "    }\n",
       "</style>\n",
       "<table border=\"1\" class=\"dataframe\">\n",
       "  <thead>\n",
       "    <tr style=\"text-align: right;\">\n",
       "      <th></th>\n",
       "      <th>Model</th>\n",
       "      <th>mpg</th>\n",
       "      <th>cyl</th>\n",
       "      <th>disp</th>\n",
       "      <th>hp</th>\n",
       "      <th>drat</th>\n",
       "      <th>wt</th>\n",
       "      <th>qsec</th>\n",
       "      <th>vs</th>\n",
       "      <th>am</th>\n",
       "      <th>gear</th>\n",
       "      <th>carb</th>\n",
       "    </tr>\n",
       "  </thead>\n",
       "  <tbody>\n",
       "    <tr>\n",
       "      <th>0</th>\n",
       "      <td>Mazda RX4</td>\n",
       "      <td>21.0</td>\n",
       "      <td>6.0</td>\n",
       "      <td>160.0</td>\n",
       "      <td>110.0</td>\n",
       "      <td>3.90</td>\n",
       "      <td>2.620</td>\n",
       "      <td>16.46</td>\n",
       "      <td>0.0</td>\n",
       "      <td>1.0</td>\n",
       "      <td>4.0</td>\n",
       "      <td>4.0</td>\n",
       "    </tr>\n",
       "    <tr>\n",
       "      <th>1</th>\n",
       "      <td>Mazda RX4 Wag</td>\n",
       "      <td>21.0</td>\n",
       "      <td>6.0</td>\n",
       "      <td>160.0</td>\n",
       "      <td>110.0</td>\n",
       "      <td>3.90</td>\n",
       "      <td>2.875</td>\n",
       "      <td>17.02</td>\n",
       "      <td>0.0</td>\n",
       "      <td>1.0</td>\n",
       "      <td>4.0</td>\n",
       "      <td>4.0</td>\n",
       "    </tr>\n",
       "    <tr>\n",
       "      <th>2</th>\n",
       "      <td>Datsun 710</td>\n",
       "      <td>22.8</td>\n",
       "      <td>4.0</td>\n",
       "      <td>108.0</td>\n",
       "      <td>93.0</td>\n",
       "      <td>3.85</td>\n",
       "      <td>2.320</td>\n",
       "      <td>18.61</td>\n",
       "      <td>1.0</td>\n",
       "      <td>1.0</td>\n",
       "      <td>4.0</td>\n",
       "      <td>1.0</td>\n",
       "    </tr>\n",
       "    <tr>\n",
       "      <th>3</th>\n",
       "      <td>Hornet 4 Drive</td>\n",
       "      <td>21.4</td>\n",
       "      <td>6.0</td>\n",
       "      <td>258.0</td>\n",
       "      <td>110.0</td>\n",
       "      <td>3.08</td>\n",
       "      <td>3.215</td>\n",
       "      <td>19.44</td>\n",
       "      <td>1.0</td>\n",
       "      <td>0.0</td>\n",
       "      <td>3.0</td>\n",
       "      <td>1.0</td>\n",
       "    </tr>\n",
       "    <tr>\n",
       "      <th>4</th>\n",
       "      <td>Hornet Sportabout</td>\n",
       "      <td>18.7</td>\n",
       "      <td>8.0</td>\n",
       "      <td>360.0</td>\n",
       "      <td>175.0</td>\n",
       "      <td>3.15</td>\n",
       "      <td>3.440</td>\n",
       "      <td>17.02</td>\n",
       "      <td>0.0</td>\n",
       "      <td>0.0</td>\n",
       "      <td>3.0</td>\n",
       "      <td>2.0</td>\n",
       "    </tr>\n",
       "  </tbody>\n",
       "</table>\n",
       "</div>"
      ],
      "text/plain": [
       "               Model   mpg  cyl   disp     hp  drat     wt   qsec   vs   am  \\\n",
       "0          Mazda RX4  21.0  6.0  160.0  110.0  3.90  2.620  16.46  0.0  1.0   \n",
       "1      Mazda RX4 Wag  21.0  6.0  160.0  110.0  3.90  2.875  17.02  0.0  1.0   \n",
       "2         Datsun 710  22.8  4.0  108.0   93.0  3.85  2.320  18.61  1.0  1.0   \n",
       "3     Hornet 4 Drive  21.4  6.0  258.0  110.0  3.08  3.215  19.44  1.0  0.0   \n",
       "4  Hornet Sportabout  18.7  8.0  360.0  175.0  3.15  3.440  17.02  0.0  0.0   \n",
       "\n",
       "   gear  carb  \n",
       "0   4.0   4.0  \n",
       "1   4.0   4.0  \n",
       "2   4.0   1.0  \n",
       "3   3.0   1.0  \n",
       "4   3.0   2.0  "
      ]
     },
     "execution_count": 52,
     "metadata": {},
     "output_type": "execute_result"
    }
   ],
   "source": [
    "bd.head()"
   ]
  },
  {
   "cell_type": "code",
   "execution_count": 53,
   "id": "72ff673e-0f74-482b-a64b-ea3a3899d5bb",
   "metadata": {},
   "outputs": [
    {
     "data": {
      "text/html": [
       "<div>\n",
       "<style scoped>\n",
       "    .dataframe tbody tr th:only-of-type {\n",
       "        vertical-align: middle;\n",
       "    }\n",
       "\n",
       "    .dataframe tbody tr th {\n",
       "        vertical-align: top;\n",
       "    }\n",
       "\n",
       "    .dataframe thead th {\n",
       "        text-align: right;\n",
       "    }\n",
       "</style>\n",
       "<table border=\"1\" class=\"dataframe\">\n",
       "  <thead>\n",
       "    <tr style=\"text-align: right;\">\n",
       "      <th></th>\n",
       "      <th>Model</th>\n",
       "      <th>mpg</th>\n",
       "      <th>cyl</th>\n",
       "      <th>disp</th>\n",
       "      <th>hp</th>\n",
       "      <th>drat</th>\n",
       "      <th>wt</th>\n",
       "      <th>qsec</th>\n",
       "      <th>vs</th>\n",
       "      <th>am</th>\n",
       "      <th>gear</th>\n",
       "      <th>carb</th>\n",
       "    </tr>\n",
       "  </thead>\n",
       "  <tbody>\n",
       "    <tr>\n",
       "      <th>count</th>\n",
       "      <td>33</td>\n",
       "      <td>32.000000</td>\n",
       "      <td>32.000000</td>\n",
       "      <td>32.000000</td>\n",
       "      <td>32.000000</td>\n",
       "      <td>32.000000</td>\n",
       "      <td>32.000000</td>\n",
       "      <td>32.000000</td>\n",
       "      <td>32.000000</td>\n",
       "      <td>32.000000</td>\n",
       "      <td>32.000000</td>\n",
       "      <td>32.0000</td>\n",
       "    </tr>\n",
       "    <tr>\n",
       "      <th>unique</th>\n",
       "      <td>33</td>\n",
       "      <td>NaN</td>\n",
       "      <td>NaN</td>\n",
       "      <td>NaN</td>\n",
       "      <td>NaN</td>\n",
       "      <td>NaN</td>\n",
       "      <td>NaN</td>\n",
       "      <td>NaN</td>\n",
       "      <td>NaN</td>\n",
       "      <td>NaN</td>\n",
       "      <td>NaN</td>\n",
       "      <td>NaN</td>\n",
       "    </tr>\n",
       "    <tr>\n",
       "      <th>top</th>\n",
       "      <td>Mazda RX4</td>\n",
       "      <td>NaN</td>\n",
       "      <td>NaN</td>\n",
       "      <td>NaN</td>\n",
       "      <td>NaN</td>\n",
       "      <td>NaN</td>\n",
       "      <td>NaN</td>\n",
       "      <td>NaN</td>\n",
       "      <td>NaN</td>\n",
       "      <td>NaN</td>\n",
       "      <td>NaN</td>\n",
       "      <td>NaN</td>\n",
       "    </tr>\n",
       "    <tr>\n",
       "      <th>freq</th>\n",
       "      <td>1</td>\n",
       "      <td>NaN</td>\n",
       "      <td>NaN</td>\n",
       "      <td>NaN</td>\n",
       "      <td>NaN</td>\n",
       "      <td>NaN</td>\n",
       "      <td>NaN</td>\n",
       "      <td>NaN</td>\n",
       "      <td>NaN</td>\n",
       "      <td>NaN</td>\n",
       "      <td>NaN</td>\n",
       "      <td>NaN</td>\n",
       "    </tr>\n",
       "    <tr>\n",
       "      <th>mean</th>\n",
       "      <td>NaN</td>\n",
       "      <td>20.090625</td>\n",
       "      <td>6.187500</td>\n",
       "      <td>230.721875</td>\n",
       "      <td>146.687500</td>\n",
       "      <td>3.596563</td>\n",
       "      <td>3.217250</td>\n",
       "      <td>17.848750</td>\n",
       "      <td>0.437500</td>\n",
       "      <td>0.406250</td>\n",
       "      <td>3.687500</td>\n",
       "      <td>2.8125</td>\n",
       "    </tr>\n",
       "    <tr>\n",
       "      <th>std</th>\n",
       "      <td>NaN</td>\n",
       "      <td>6.026948</td>\n",
       "      <td>1.785922</td>\n",
       "      <td>123.938694</td>\n",
       "      <td>68.562868</td>\n",
       "      <td>0.534679</td>\n",
       "      <td>0.978457</td>\n",
       "      <td>1.786943</td>\n",
       "      <td>0.504016</td>\n",
       "      <td>0.498991</td>\n",
       "      <td>0.737804</td>\n",
       "      <td>1.6152</td>\n",
       "    </tr>\n",
       "    <tr>\n",
       "      <th>min</th>\n",
       "      <td>NaN</td>\n",
       "      <td>10.400000</td>\n",
       "      <td>4.000000</td>\n",
       "      <td>71.100000</td>\n",
       "      <td>52.000000</td>\n",
       "      <td>2.760000</td>\n",
       "      <td>1.513000</td>\n",
       "      <td>14.500000</td>\n",
       "      <td>0.000000</td>\n",
       "      <td>0.000000</td>\n",
       "      <td>3.000000</td>\n",
       "      <td>1.0000</td>\n",
       "    </tr>\n",
       "    <tr>\n",
       "      <th>25%</th>\n",
       "      <td>NaN</td>\n",
       "      <td>15.425000</td>\n",
       "      <td>4.000000</td>\n",
       "      <td>120.825000</td>\n",
       "      <td>96.500000</td>\n",
       "      <td>3.080000</td>\n",
       "      <td>2.581250</td>\n",
       "      <td>16.892500</td>\n",
       "      <td>0.000000</td>\n",
       "      <td>0.000000</td>\n",
       "      <td>3.000000</td>\n",
       "      <td>2.0000</td>\n",
       "    </tr>\n",
       "    <tr>\n",
       "      <th>50%</th>\n",
       "      <td>NaN</td>\n",
       "      <td>19.200000</td>\n",
       "      <td>6.000000</td>\n",
       "      <td>196.300000</td>\n",
       "      <td>123.000000</td>\n",
       "      <td>3.695000</td>\n",
       "      <td>3.325000</td>\n",
       "      <td>17.710000</td>\n",
       "      <td>0.000000</td>\n",
       "      <td>0.000000</td>\n",
       "      <td>4.000000</td>\n",
       "      <td>2.0000</td>\n",
       "    </tr>\n",
       "    <tr>\n",
       "      <th>75%</th>\n",
       "      <td>NaN</td>\n",
       "      <td>22.800000</td>\n",
       "      <td>8.000000</td>\n",
       "      <td>326.000000</td>\n",
       "      <td>180.000000</td>\n",
       "      <td>3.920000</td>\n",
       "      <td>3.610000</td>\n",
       "      <td>18.900000</td>\n",
       "      <td>1.000000</td>\n",
       "      <td>1.000000</td>\n",
       "      <td>4.000000</td>\n",
       "      <td>4.0000</td>\n",
       "    </tr>\n",
       "    <tr>\n",
       "      <th>max</th>\n",
       "      <td>NaN</td>\n",
       "      <td>33.900000</td>\n",
       "      <td>8.000000</td>\n",
       "      <td>472.000000</td>\n",
       "      <td>335.000000</td>\n",
       "      <td>4.930000</td>\n",
       "      <td>5.424000</td>\n",
       "      <td>22.900000</td>\n",
       "      <td>1.000000</td>\n",
       "      <td>1.000000</td>\n",
       "      <td>5.000000</td>\n",
       "      <td>8.0000</td>\n",
       "    </tr>\n",
       "  </tbody>\n",
       "</table>\n",
       "</div>"
      ],
      "text/plain": [
       "            Model        mpg        cyl        disp          hp       drat  \\\n",
       "count          33  32.000000  32.000000   32.000000   32.000000  32.000000   \n",
       "unique         33        NaN        NaN         NaN         NaN        NaN   \n",
       "top     Mazda RX4        NaN        NaN         NaN         NaN        NaN   \n",
       "freq            1        NaN        NaN         NaN         NaN        NaN   \n",
       "mean          NaN  20.090625   6.187500  230.721875  146.687500   3.596563   \n",
       "std           NaN   6.026948   1.785922  123.938694   68.562868   0.534679   \n",
       "min           NaN  10.400000   4.000000   71.100000   52.000000   2.760000   \n",
       "25%           NaN  15.425000   4.000000  120.825000   96.500000   3.080000   \n",
       "50%           NaN  19.200000   6.000000  196.300000  123.000000   3.695000   \n",
       "75%           NaN  22.800000   8.000000  326.000000  180.000000   3.920000   \n",
       "max           NaN  33.900000   8.000000  472.000000  335.000000   4.930000   \n",
       "\n",
       "               wt       qsec         vs         am       gear     carb  \n",
       "count   32.000000  32.000000  32.000000  32.000000  32.000000  32.0000  \n",
       "unique        NaN        NaN        NaN        NaN        NaN      NaN  \n",
       "top           NaN        NaN        NaN        NaN        NaN      NaN  \n",
       "freq          NaN        NaN        NaN        NaN        NaN      NaN  \n",
       "mean     3.217250  17.848750   0.437500   0.406250   3.687500   2.8125  \n",
       "std      0.978457   1.786943   0.504016   0.498991   0.737804   1.6152  \n",
       "min      1.513000  14.500000   0.000000   0.000000   3.000000   1.0000  \n",
       "25%      2.581250  16.892500   0.000000   0.000000   3.000000   2.0000  \n",
       "50%      3.325000  17.710000   0.000000   0.000000   4.000000   2.0000  \n",
       "75%      3.610000  18.900000   1.000000   1.000000   4.000000   4.0000  \n",
       "max      5.424000  22.900000   1.000000   1.000000   5.000000   8.0000  "
      ]
     },
     "execution_count": 53,
     "metadata": {},
     "output_type": "execute_result"
    }
   ],
   "source": [
    "# Dataframe summary: Only numeric columns\n",
    "bd.describe(include = \"all\")"
   ]
  },
  {
   "cell_type": "markdown",
   "id": "af4f664b-ea4a-4a4c-8459-c9db31c10aad",
   "metadata": {},
   "source": [
    "# Tasks"
   ]
  },
  {
   "cell_type": "code",
   "execution_count": 54,
   "id": "20e95e4c-93b4-4ddb-ba44-1be92705159c",
   "metadata": {},
   "outputs": [],
   "source": [
    "# 1. Read the data inside Python.\n",
    "data = pd.read_csv('cars.csv', encoding='ISO-8859-1')"
   ]
  },
  {
   "cell_type": "code",
   "execution_count": 55,
   "id": "e10735e9-f566-41bc-b897-e68d36a6952b",
   "metadata": {},
   "outputs": [
    {
     "name": "stdout",
     "output_type": "stream",
     "text": [
      "Rows are: 33, Columns are: 12\n"
     ]
    }
   ],
   "source": [
    "# 2. Print How many rows and columns are there in the data\n",
    "rows, columns = data.shape\n",
    "print(f\"Rows are: {rows}, Columns are: {columns}\")"
   ]
  },
  {
   "cell_type": "code",
   "execution_count": 58,
   "id": "2e7d3aab-b2b7-4547-8be8-0d0ab7a370ed",
   "metadata": {},
   "outputs": [
    {
     "name": "stdout",
     "output_type": "stream",
     "text": [
      "\n",
      "Mean Values:\n",
      "mpg      20.090625\n",
      "cyl       6.187500\n",
      "disp    230.721875\n",
      "hp      146.687500\n",
      "drat      3.596563\n",
      "wt        3.217250\n",
      "qsec     17.848750\n",
      "vs        0.437500\n",
      "am        0.406250\n",
      "gear      3.687500\n",
      "carb      2.812500\n",
      "dtype: float64\n",
      "\n",
      "Median Values:\n",
      "mpg      19.200\n",
      "cyl       6.000\n",
      "disp    196.300\n",
      "hp      123.000\n",
      "drat      3.695\n",
      "wt        3.325\n",
      "qsec     17.710\n",
      "vs        0.000\n",
      "am        0.000\n",
      "gear      4.000\n",
      "carb      2.000\n",
      "dtype: float64\n",
      "\n",
      "Standard Deviation Values:\n",
      "mpg       6.026948\n",
      "cyl       1.785922\n",
      "disp    123.938694\n",
      "hp       68.562868\n",
      "drat      0.534679\n",
      "wt        0.978457\n",
      "qsec      1.786943\n",
      "vs        0.504016\n",
      "am        0.498991\n",
      "gear      0.737804\n",
      "carb      1.615200\n",
      "dtype: float64\n"
     ]
    }
   ],
   "source": [
    "#3. Analyse the data with summary statistics like Mean, Median, SD.\n",
    "\n",
    "mean_values = data.mean(numeric_only=True)\n",
    "median_values = data.median(numeric_only=True)\n",
    "std_values = data.std(numeric_only=True)\n",
    "\n",
    "print(\"\\nMean Values:\")\n",
    "print(mean_values)\n",
    "\n",
    "print(\"\\nMedian Values:\")\n",
    "print(median_values)\n",
    "\n",
    "print(\"\\nStandard Deviation Values:\")\n",
    "print(std_values)\n"
   ]
  },
  {
   "cell_type": "code",
   "execution_count": 60,
   "id": "d32bf4d3-aed3-4f85-8c28-e5c14e9c59c4",
   "metadata": {},
   "outputs": [
    {
     "name": "stdout",
     "output_type": "stream",
     "text": [
      "\n",
      "25% Percentiles:\n",
      "mpg      15.42500\n",
      "cyl       4.00000\n",
      "disp    120.82500\n",
      "hp       96.50000\n",
      "drat      3.08000\n",
      "wt        2.58125\n",
      "qsec     16.89250\n",
      "vs        0.00000\n",
      "am        0.00000\n",
      "gear      3.00000\n",
      "carb      2.00000\n",
      "Name: 25%, dtype: float64\n",
      "\n",
      "75% Percentiles:\n",
      "mpg      22.80\n",
      "cyl       8.00\n",
      "disp    326.00\n",
      "hp      180.00\n",
      "drat      3.92\n",
      "wt        3.61\n",
      "qsec     18.90\n",
      "vs        1.00\n",
      "am        1.00\n",
      "gear      4.00\n",
      "carb      4.00\n",
      "Name: 75%, dtype: float64\n"
     ]
    }
   ],
   "source": [
    "# 4. Write Interpretation of 25 % and 75 %\n",
    "summary_stats = data.describe()\n",
    "percentile_25 = summary_stats.loc[\"25%\"]\n",
    "percentile_75 = summary_stats.loc[\"75%\"]\n",
    "\n",
    "print(\"\\n25% Percentiles:\")\n",
    "print(percentile_25)\n",
    "\n",
    "print(\"\\n75% Percentiles:\")\n",
    "print(percentile_75)"
   ]
  }
 ],
 "metadata": {
  "kernelspec": {
   "display_name": "Python [conda env:base] *",
   "language": "python",
   "name": "conda-base-py"
  },
  "language_info": {
   "codemirror_mode": {
    "name": "ipython",
    "version": 3
   },
   "file_extension": ".py",
   "mimetype": "text/x-python",
   "name": "python",
   "nbconvert_exporter": "python",
   "pygments_lexer": "ipython3",
   "version": "3.12.7"
  }
 },
 "nbformat": 4,
 "nbformat_minor": 5
}
