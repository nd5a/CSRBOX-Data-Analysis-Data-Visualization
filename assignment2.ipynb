{
 "cells": [
  {
   "cell_type": "markdown",
   "id": "5f1fbde6-1886-4d3a-95a8-0e5eacb120d9",
   "metadata": {},
   "source": [
    "# Tasks"
   ]
  },
  {
   "cell_type": "code",
   "execution_count": 4,
   "id": "fe63e77a-ac9f-48b7-914f-edc45f4fea3d",
   "metadata": {},
   "outputs": [],
   "source": [
    "# 1 Load the \"cars.csv\" data file in python.\n",
    "\n",
    "import pandas as pd\n",
    "data = pd.read_csv('cars.csv', encoding='ISO-8859-1')"
   ]
  },
  {
   "cell_type": "code",
   "execution_count": 6,
   "id": "518c7d57-e7cd-485e-97ec-2ac0758829f0",
   "metadata": {},
   "outputs": [
    {
     "name": "stdout",
     "output_type": "stream",
     "text": [
      "Rows are: 33, Columns are: 12\n"
     ]
    }
   ],
   "source": [
    "# 2. Display the number of rows and columns in the dataset.\n",
    "\n",
    "rows, columns = data.shape\n",
    "print(f\"Rows are: {rows}, Columns are: {columns}\")"
   ]
  },
  {
   "cell_type": "code",
   "execution_count": 8,
   "id": "cc9d77cd-3281-4749-aed5-159c55f4e88b",
   "metadata": {},
   "outputs": [
    {
     "name": "stdout",
     "output_type": "stream",
     "text": [
      "\n",
      "Mean Values:\n",
      "mpg      20.090625\n",
      "cyl       6.187500\n",
      "disp    230.721875\n",
      "hp      146.687500\n",
      "drat      3.596563\n",
      "wt        3.217250\n",
      "qsec     17.848750\n",
      "vs        0.437500\n",
      "am        0.406250\n",
      "gear      3.687500\n",
      "carb      2.812500\n",
      "dtype: float64\n",
      "\n",
      "Median Values:\n",
      "mpg      19.200\n",
      "cyl       6.000\n",
      "disp    196.300\n",
      "hp      123.000\n",
      "drat      3.695\n",
      "wt        3.325\n",
      "qsec     17.710\n",
      "vs        0.000\n",
      "am        0.000\n",
      "gear      4.000\n",
      "carb      2.000\n",
      "dtype: float64\n",
      "\n",
      "Standard Deviation Values:\n",
      "mpg       6.026948\n",
      "cyl       1.785922\n",
      "disp    123.938694\n",
      "hp       68.562868\n",
      "drat      0.534679\n",
      "wt        0.978457\n",
      "qsec      1.786943\n",
      "vs        0.504016\n",
      "am        0.498991\n",
      "gear      0.737804\n",
      "carb      1.615200\n",
      "dtype: float64\n"
     ]
    }
   ],
   "source": [
    "# 3. Analyze the data using summary statistics such as mean, median and standard Deviation.\n",
    "\n",
    "mean_values = data.mean(numeric_only=True)\n",
    "median_values = data.median(numeric_only=True)\n",
    "std_values = data.std(numeric_only=True)\n",
    "\n",
    "print(\"\\nMean Values:\")\n",
    "print(mean_values)\n",
    "\n",
    "print(\"\\nMedian Values:\")\n",
    "print(median_values)\n",
    "\n",
    "print(\"\\nStandard Deviation Values:\")\n",
    "print(std_values)"
   ]
  },
  {
   "cell_type": "code",
   "execution_count": 10,
   "id": "88aa3943-c7cf-4189-8ab7-71907d04ccae",
   "metadata": {},
   "outputs": [
    {
     "name": "stdout",
     "output_type": "stream",
     "text": [
      "\n",
      "25% Percentiles:\n",
      "mpg      15.42500\n",
      "cyl       4.00000\n",
      "disp    120.82500\n",
      "hp       96.50000\n",
      "drat      3.08000\n",
      "wt        2.58125\n",
      "qsec     16.89250\n",
      "vs        0.00000\n",
      "am        0.00000\n",
      "gear      3.00000\n",
      "carb      2.00000\n",
      "Name: 25%, dtype: float64\n",
      "\n",
      "75% Percentiles:\n",
      "mpg      22.80\n",
      "cyl       8.00\n",
      "disp    326.00\n",
      "hp      180.00\n",
      "drat      3.92\n",
      "wt        3.61\n",
      "qsec     18.90\n",
      "vs        1.00\n",
      "am        1.00\n",
      "gear      4.00\n",
      "carb      4.00\n",
      "Name: 75%, dtype: float64\n"
     ]
    }
   ],
   "source": [
    "# 4. Provide Interpretations for 25th and 75th percentiles.\n",
    "\n",
    "summary_stats = data.describe()\n",
    "percentile_25 = summary_stats.loc[\"25%\"]\n",
    "percentile_75 = summary_stats.loc[\"75%\"]\n",
    "\n",
    "print(\"\\n25% Percentiles:\")\n",
    "print(percentile_25)\n",
    "\n",
    "print(\"\\n75% Percentiles:\")\n",
    "print(percentile_75)"
   ]
  }
 ],
 "metadata": {
  "kernelspec": {
   "display_name": "Python [conda env:base] *",
   "language": "python",
   "name": "conda-base-py"
  },
  "language_info": {
   "codemirror_mode": {
    "name": "ipython",
    "version": 3
   },
   "file_extension": ".py",
   "mimetype": "text/x-python",
   "name": "python",
   "nbconvert_exporter": "python",
   "pygments_lexer": "ipython3",
   "version": "3.12.7"
  }
 },
 "nbformat": 4,
 "nbformat_minor": 5
}
